{
 "cells": [
  {
   "cell_type": "code",
   "execution_count": 1,
   "id": "d9ba58ba",
   "metadata": {},
   "outputs": [
    {
     "name": "stdout",
     "output_type": "stream",
     "text": [
      "Enter the number:3\n",
      "1\n",
      "2\n",
      "3\n",
      "[1, 2, 3]\n",
      "[1, 4, 9]\n"
     ]
    }
   ],
   "source": [
    "lst_ = []\n",
    "num = int(input(\"Enter the number:\"))\n",
    "\n",
    "for start in range(0, num):\n",
    "    element = int(input())\n",
    "    lst_.append(element)\n",
    "print(lst_)\n",
    "result= map(lambda start: start**2, lst_)\n",
    "x = print(list(result))"
   ]
  }
 ],
 "metadata": {
  "kernelspec": {
   "display_name": "Python 3",
   "language": "python",
   "name": "python3"
  },
  "language_info": {
   "codemirror_mode": {
    "name": "ipython",
    "version": 3
   },
   "file_extension": ".py",
   "mimetype": "text/x-python",
   "name": "python",
   "nbconvert_exporter": "python",
   "pygments_lexer": "ipython3",
   "version": "3.8.8"
  }
 },
 "nbformat": 4,
 "nbformat_minor": 5
}
