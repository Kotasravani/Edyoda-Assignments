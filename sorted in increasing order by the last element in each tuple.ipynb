{
 "cells": [
  {
   "cell_type": "code",
   "execution_count": 1,
   "id": "24bc7558",
   "metadata": {},
   "outputs": [
    {
     "name": "stdout",
     "output_type": "stream",
     "text": [
      "enter no of rows : 4\n",
      "1 2\n",
      "3 2\n",
      "3 4\n",
      "5 3\n",
      "The list is: [(1, 2), (3, 2), (3, 4), (5, 3)]\n",
      "The output is: [(1, 2), (3, 2), (5, 3), (3, 4)]\n"
     ]
    }
   ],
   "source": [
    "tup = list(tuple(map(int,input().split())) \n",
    "         for r in range(int(input('enter no of rows : '))))  \n",
    "print(\"The list is:\",tup) \n",
    "\n",
    "def last(n): \n",
    "    return n[-1]\n",
    "\n",
    "def sort_list_last(tup):\n",
    "    return sorted(tup, key = last)\n",
    "\n",
    "print(\"The output is:\",sort_list_last(tup))\n"
   ]
  }
 ],
 "metadata": {
  "kernelspec": {
   "display_name": "Python 3",
   "language": "python",
   "name": "python3"
  },
  "language_info": {
   "codemirror_mode": {
    "name": "ipython",
    "version": 3
   },
   "file_extension": ".py",
   "mimetype": "text/x-python",
   "name": "python",
   "nbconvert_exporter": "python",
   "pygments_lexer": "ipython3",
   "version": "3.8.8"
  }
 },
 "nbformat": 4,
 "nbformat_minor": 5
}
