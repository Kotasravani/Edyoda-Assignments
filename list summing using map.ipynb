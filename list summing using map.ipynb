{
 "cells": [
  {
   "cell_type": "code",
   "execution_count": 1,
   "metadata": {},
   "outputs": [
    {
     "name": "stdout",
     "output_type": "stream",
     "text": [
      "Enter the #3\n",
      "1\n",
      "2\n",
      "3\n",
      "[1, 2, 3]\n",
      "[3, 6, 9]\n"
     ]
    }
   ],
   "source": [
    "ca = []\n",
    "\n",
    "num = int(input(\"Enter the #\"))\n",
    "\n",
    "for x in range(0, num):\n",
    "    element = int(input())\n",
    "    ca.append(element)\n",
    "print(ca)\n",
    "\n",
    "result = map(lambda x: x+x+x, ca)\n",
    "\n",
    "cap = print(list(result))"
   ]
  }
 ],
 "metadata": {
  "kernelspec": {
   "display_name": "Python 3",
   "language": "python",
   "name": "python3"
  },
  "language_info": {
   "codemirror_mode": {
    "name": "ipython",
    "version": 3
   },
   "file_extension": ".py",
   "mimetype": "text/x-python",
   "name": "python",
   "nbconvert_exporter": "python",
   "pygments_lexer": "ipython3",
   "version": "3.8.8"
  }
 },
 "nbformat": 4,
 "nbformat_minor": 4
}
