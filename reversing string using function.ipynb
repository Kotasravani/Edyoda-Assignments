{
 "cells": [
  {
   "cell_type": "code",
   "execution_count": 2,
   "id": "c40de908",
   "metadata": {},
   "outputs": [
    {
     "name": "stdout",
     "output_type": "stream",
     "text": [
      "Enter the stringhello world23\n",
      "The orginal string: hello world23\n",
      "The reversed string 32dlrow olleh \n"
     ]
    }
   ],
   "source": [
    "def reversed(string):\n",
    "    result = \" \"\n",
    "    for char in string:\n",
    "        result = char + result\n",
    "    return result\n",
    "string = input(\"Enter the string\")\n",
    "print(\"The orginal string:\", string)\n",
    "print(\"The reversed string\", reversed(string))"
   ]
  }
 ],
 "metadata": {
  "kernelspec": {
   "display_name": "Python 3",
   "language": "python",
   "name": "python3"
  },
  "language_info": {
   "codemirror_mode": {
    "name": "ipython",
    "version": 3
   },
   "file_extension": ".py",
   "mimetype": "text/x-python",
   "name": "python",
   "nbconvert_exporter": "python",
   "pygments_lexer": "ipython3",
   "version": "3.8.8"
  }
 },
 "nbformat": 4,
 "nbformat_minor": 5
}
