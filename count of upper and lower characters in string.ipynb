{
 "cells": [
  {
   "cell_type": "code",
   "execution_count": 3,
   "id": "425d63f1",
   "metadata": {},
   "outputs": [
    {
     "name": "stdout",
     "output_type": "stream",
     "text": [
      "Enter the stringHexaGon\n",
      "The lower characters in string: 5\n",
      "The upper characters in string: 2\n"
     ]
    }
   ],
   "source": [
    "string = input(\"Enter the string\")\n",
    "low_count = 0\n",
    "upper_count=0\n",
    "for i in string:\n",
    "    if i.islower():\n",
    "        low_count = low_count+1\n",
    "    elif(i.isupper()):\n",
    "        upper_count = upper_count +1\n",
    "        \n",
    "print(\"The lower characters in string:\",low_count)\n",
    "print(\"The upper characters in string:\",upper_count)"
   ]
  }
 ],
 "metadata": {
  "kernelspec": {
   "display_name": "Python 3",
   "language": "python",
   "name": "python3"
  },
  "language_info": {
   "codemirror_mode": {
    "name": "ipython",
    "version": 3
   },
   "file_extension": ".py",
   "mimetype": "text/x-python",
   "name": "python",
   "nbconvert_exporter": "python",
   "pygments_lexer": "ipython3",
   "version": "3.8.8"
  }
 },
 "nbformat": 4,
 "nbformat_minor": 5
}
