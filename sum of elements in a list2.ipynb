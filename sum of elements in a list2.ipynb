{
 "cells": [
  {
   "cell_type": "code",
   "execution_count": 3,
   "id": "0f68e6c2",
   "metadata": {},
   "outputs": [
    {
     "name": "stdout",
     "output_type": "stream",
     "text": [
      "Enter the elements by space 2 3 4 5\n",
      "sum= 14\n"
     ]
    }
   ],
   "source": [
    "list = input('Enter the elements by space ')\n",
    "user_list = list.split()\n",
    "\n",
    "sum = 0\n",
    "for num in user_list:\n",
    "    sum += int(num)\n",
    "print(\"sum=\", sum)"
   ]
  }
 ],
 "metadata": {
  "kernelspec": {
   "display_name": "Python 3",
   "language": "python",
   "name": "python3"
  },
  "language_info": {
   "codemirror_mode": {
    "name": "ipython",
    "version": 3
   },
   "file_extension": ".py",
   "mimetype": "text/x-python",
   "name": "python",
   "nbconvert_exporter": "python",
   "pygments_lexer": "ipython3",
   "version": "3.8.8"
  }
 },
 "nbformat": 4,
 "nbformat_minor": 5
}
